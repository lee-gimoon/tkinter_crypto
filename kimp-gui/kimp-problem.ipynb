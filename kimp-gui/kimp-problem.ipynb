{
 "cells": [
  {
   "cell_type": "markdown",
   "metadata": {},
   "source": [
    "# 김프를 구하기 위해 코딩에 있어서 발생하는 간격 문제.\n",
    "업비트 비트코인 시세 갱신이(즉, 체결)이 바이낸스에 비해 느립니다. 따라서 정확한 김프계산에 있어 문제가 발생합니다.(김프가 실시간으로 최신화 되어야 하는데 그렇지 못함.)<br>\n",
    "kimp_client 코루틴에서 업비트의 데이터가 들어오지 않으면 바이낸스의 데이터를 기다리는 binance_queue.get()도 실행되지 않기 때문에 딜레이가 발생한다는 것입니다.<br>\n",
    "`즉, 위의 말은 await때문에 큐가 비어있으면(upbit 데이서 갱신이 느려서 큐가 빔) 다음 줄로 넘어가지 못함.`\n",
    "\n",
    "```\n",
    "async def kimp_client(upbit_queue, binance_queue):\n",
    "    while True:\n",
    "        upbit_data = await upbit_queue.get()\n",
    "        binance_data = await binance_queue.get() \n",
    "        binance_krw = binance_data * 1330\n",
    "        kimp = round(((upbit_data - binance_krw) / binance_krw) * 100, 2)\n",
    "        print(f\"Kimp: {kimp} %\")\n",
    "```"
   ]
  },
  {
   "cell_type": "markdown",
   "metadata": {},
   "source": [
    "# 위 문제를 해결하기 위해 몇가지 방안이 있습니다.\n",
    "\n",
    "**첫번쨰.<br>**\n",
    "비동기 타임아웃 설정: asyncio.wait_for() 함수를 사용하여 일정 시간 내에 데이터가 들어오지 않으면 다음 작업을 진행하도록 할 수 있습니다.<br>\n",
    "```\n",
    "async def kimp_client(upbit_queue, binance_queue):\n",
    "    while True:\n",
    "        try:\n",
    "            upbit_data = await asyncio.wait_for(upbit_queue.get(), timeout=0.1)\n",
    "            binance_data = await binance_queue.get()\n",
    "        except asyncio.TimeoutError:\n",
    "            continue  # or use the last known upbit_data\n",
    "        \n",
    "        binance_krw = binance_data * 1330\n",
    "        kimp = round(((upbit_data - binance_krw) / binance_krw) * 100, 2)\n",
    "        print(f\"Kimp: {kimp} %\")\n",
    "```\n",
    "\n",
    "**두번쨰.<br>**\n",
    "마지막으로 알려진 데이터 사용: 업비트 데이터가 늦게 들어오더라도 바이낸스 데이터를 계속 처리하고 마지막으로 알려진 업비트 데이터를 사용할 수 있습니다.<br>\n",
    "```\n",
    "last_upbit_data = None\n",
    "last_binance_data = None\n",
    "\n",
    "async def kimp_client(upbit_queue, binance_queue):\n",
    "    global last_upbit_data, last_binance_data\n",
    "    \n",
    "    while True:\n",
    "        if not upbit_queue.empty():\n",
    "            last_upbit_data = await upbit_queue.get()\n",
    "            \n",
    "        if not binance_queue.empty():\n",
    "            last_binance_data = await binance_queue.get()\n",
    "        \n",
    "        if last_upbit_data is not None and last_binance_data is not None:\n",
    "            binance_krw = last_binance_data * 1330\n",
    "            kimp = round(((last_upbit_data - binance_krw) / binance_krw) * 100, 2)\n",
    "            print(f\"Kimp: {kimp} %\")\n",
    "\n",
    "        await asyncio.sleep(0.1)  # Sleep to prevent high CPU usage\n",
    "```\n",
    "\n",
    "여기서 마지막으로 알려진 데이터 사용을 써야 훨씬 좋음.\n"
   ]
  }
 ],
 "metadata": {
  "language_info": {
   "name": "python"
  },
  "orig_nbformat": 4
 },
 "nbformat": 4,
 "nbformat_minor": 2
}
