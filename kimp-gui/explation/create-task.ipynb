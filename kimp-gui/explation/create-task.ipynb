{
 "cells": [
  {
   "cell_type": "code",
   "execution_count": 1,
   "metadata": {},
   "outputs": [],
   "source": [
    "import nest_asyncio\n",
    "nest_asyncio.apply()"
   ]
  },
  {
   "cell_type": "markdown",
   "metadata": {},
   "source": [
    "# asyncio.create_task()에 대하여...\n",
    "asyncio.create_task()는 Python의 asyncio 모듈에 속한 함수로, 코루틴을 받아서 비동기 작업(Task)으로 감싸고 이를 이벤트 루프에서 실행할 수 있도록 스케줄링합니다.<br>\n",
    "이 함수를 사용하면 이벤트 루프가 코루틴을 비동기적으로 실행할 수 있습니다. 이 함수는 작성된 코드의 비동기 실행을 단순화하고 관리하기 위한 중요한 도구입니다.<br>\n",
    "\n",
    "`코루틴을 비동기적으로 실행한다는 의미란?`<br>\n",
    "코루틴은 비동기 작업을 위한 기본 구성 요소입니다.<br>\n",
    "코루틴 함수를 호출하면, 실제로 실행되지 않고 코루틴 객체만 생성됩니다. (coro_obj = my_coroutine())<br>\n",
    "코루틴 객체를 실행하려면 await을 사용하거나, 이벤트 루프에서 스케줄링해야 합니다.<br>\n",
    "코루틴은 이벤트 루프에서 실행되기를 기다리는 일종의 \"준비된\" 상태입니다.<br>\n",
    "\n",
    "asyncio.create_task() 함수는 이러한 \"준비된\" 코루틴을 받아서 이벤트 루프에 스케줄링하는 역할을 합니다.<br>\n",
    "이렇게 하면 코루틴이 Task 객체로 래핑되어 실제로 실행될 수 있습니다.<br>\n",
    "이 Task 객체는 코루틴의 실행 상태를 추적하고, 완료 여부, 반환 값 등을 조회할 수 있는 기능을 제공합니다.<br>\n",
    "\n",
    "간단히 말해, 코루틴은 비동기 로직을 정의한 \"레시피\"와 같고, asyncio.create_task()는 이 \"레시피\"를 가지고 실제 \"요리\"를 시작하는 것이라고 볼 수 있습니다.<br>\n",
    "이 함수를 호출하면 코루틴이 실제로 실행되며, 그 결과나 상태를 Task 객체를 통해 관리할 수 있습니다.<br>"
   ]
  },
  {
   "cell_type": "markdown",
   "metadata": {},
   "source": [
    "# asyncio.create_task()의 주요 특징.\n",
    "1.즉시 실행: asyncio.create_task() 함수를 호출할 때 주어진 코루틴은 즉시 스케줄링되어 실행됩니다.<br>\n",
    "이는 코루틴의 실행을 나중에 할 필요 없이 바로 시작하게 해줍니다.<br>\n",
    "\n",
    "2.Task 반환: 이 함수는 코루틴을 감싸는 asyncio.Task 객체를 반환합니다.<br>\n",
    "Task는 Future의 서브클래스로, 진행 상태나 결과 등과 같은 작업의 상태를 관리하고 조회할 수 있는 메서드를 제공합니다.<br>\n",
    "\n",
    "3.이벤트 루프와의 통합: create_task()는 현재 실행 중인 이벤트 루프에 작업을 스케줄링합니다.<br>\n",
    "만약 특정 이벤트 루프에 작업을 스케줄링하고 싶다면, 해당 이벤트 루프의 create_task() 메서드를 직접 호출할 수 있습니다.<br>\n",
    "\n",
    "정리: asyncio.create_task()는 주어진 코루틴을 비동기 작업으로 만들고 즉시 스케줄링하여 실행하는 기능을 제공합니다.<br>\n",
    "이를 사용하면 여러 코루틴을 효율적으로 `병렬`로 실행할 수 있으며, 이를 통해 동시성을 활용하여 프로그램의 성능을 개선할 수 있습니다.<br>\n",
    "\n",
    "`asyncio.create_task()로 코루틴을 실행하면 진짜 병렬 실행인가? 정답은 no`<br>\n",
    "asyncio.create_task()를 사용해서 코루틴을 스케줄링하면, 이 코루틴들은 병렬처럼 동작하게 됩니다.<br>\n",
    "하지만 이것은 \"진짜 병렬 실행\"과는 약간 다릅니다.<br>\n",
    "Python의 asyncio는 싱글 스레드 기반으로 동작하기 때문에, 동시에 여러 작업을 처리하더라도 이는 하나의 스레드에서 순차적으로 이루어집니다.<br>\n",
    "이를 \"동시성(concurrency)\"이라고 부릅니다, \"병렬성(parallelism)\"이 아니죠.<br>"
   ]
  },
  {
   "cell_type": "code",
   "execution_count": 4,
   "metadata": {},
   "outputs": [
    {
     "name": "stdout",
     "output_type": "stream",
     "text": [
      "Start foo\n",
      "End foo\n",
      "Start foo\n",
      "End foo\n"
     ]
    }
   ],
   "source": [
    "# await 과 create_task()의 차이.\n",
    "# create_task()와 await은 코루틴을 실행하는 두 가지 다른 방법입니다, 그러나 둘은 다르게 작동합니다.\n",
    "\n",
    "# await을 사용하면 해당 코루틴이 완료될 때까지 현재의 코루틴 실행을 일시 중단합니다. 즉, await는 순차적으로 실행되며, 이전 작업이 완료될 때까지 다음 작업은 시작되지 않습니다.\n",
    "import asyncio\n",
    "async def foo():\n",
    "    print(\"Start foo\")\n",
    "    await asyncio.sleep(1)\n",
    "    print(\"End foo\")\n",
    "\n",
    "async def main():\n",
    "    await foo()\n",
    "    await foo()\n",
    "\n",
    "asyncio.run(main())"
   ]
  },
  {
   "cell_type": "code",
   "execution_count": 6,
   "metadata": {},
   "outputs": [
    {
     "name": "stdout",
     "output_type": "stream",
     "text": [
      "Start foo\n",
      "Start foo\n",
      "End foo\n",
      "End foo\n"
     ]
    }
   ],
   "source": [
    "# 반면에 create_task()는 코루틴을 이벤트 루프에 스케줄링하고 바로 다음 줄의 코드로 넘어갑니다. 즉, create_task()를 사용하면 동시에 코루틴을 실행할 수 있습니다.\n",
    "async def foo():\n",
    "    print(\"Start foo\")\n",
    "    await asyncio.sleep(1)\n",
    "    print(\"End foo\")\n",
    "\n",
    "async def main():\n",
    "    task1 = asyncio.create_task(foo())\n",
    "    task2 = asyncio.create_task(foo())\n",
    "    await task1\n",
    "    await task2\n",
    "\n",
    "asyncio.run(main())\n",
    "\n",
    "# await task1 이와 같이 await으로 다시 task객체를 실행하는 이유. (asyncio.create_task()로 코루틴을 래핑하는 즉시 코루틴은 실행되는데 말이야)\n",
    "# asyncio.create_task()를 호출하면, 해당 코루틴은 이벤트 루프에 스케줄링되어 병렬로 실행이 시작됩니다. \n",
    "# 그러나 create_task()는 Task 객체를 반환하며, 이 객체를 통해 해당 코루틴의 완료 상태를 확인하고 결과를 가져올 수 있습니다.\n",
    "# await task1 또는 await task2를 하는 이유는 main() 코루틴이 종료되기 전에 task1과 task2가 완료되었는지 확인하고, 그 결과를 기다리기 위함입니다. \n",
    "# await 없이 main()이 종료되면, 프로그램이 종료될 수 있고, 이 경우 task1과 task2가 완료되지 않았더라도 종료될 위험이 있습니다.\n",
    "# 간단히 말해, await task1과 await task2는 해당 태스크가 완료될 때까지 기다리는 역할을 합니다. \n",
    "# 이를 통해 병렬로 시작한 태스크들이 모두 완료된 후에 프로그램이 종료되거나 다음 단계로 넘어갈 수 있습니다."
   ]
  }
 ],
 "metadata": {
  "kernelspec": {
   "display_name": "Python 3",
   "language": "python",
   "name": "python3"
  },
  "language_info": {
   "codemirror_mode": {
    "name": "ipython",
    "version": 3
   },
   "file_extension": ".py",
   "mimetype": "text/x-python",
   "name": "python",
   "nbconvert_exporter": "python",
   "pygments_lexer": "ipython3",
   "version": "3.11.0"
  },
  "orig_nbformat": 4
 },
 "nbformat": 4,
 "nbformat_minor": 2
}
