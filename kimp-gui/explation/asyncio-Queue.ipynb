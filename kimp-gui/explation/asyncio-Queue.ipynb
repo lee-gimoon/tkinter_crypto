{
 "cells": [
  {
   "cell_type": "markdown",
   "metadata": {},
   "source": [
    "# asyncio.Queue와 queue.Queue의 차이점.\n",
    "`asyncio.Queue`와 `queue.Queue`는 모두 큐 자료구조를 제공하지만, 주요 차이점은 `asyncio.Queue`가 비동기 프로그래밍에 특화되어 있다는 것입니다.\n",
    "\n",
    "1. **비동기 지원**: `asyncio.Queue`는 `async/await` 구문을 사용하여 큐에 대한 비동기 작업을 수행할 수 있습니다.<br>\n",
    "예를 들어, `await queue.get()`은 데이터가 큐에 들어올 때까지 다른 코루틴(coroutine)이 실행될 수 있게 해줍니다.<br>\n",
    "`queue.Queue`에서는 이런 작업을 위해 별도의 스레드나 프로세스를 사용해야 할 수 있습니다.\n",
    "\n",
    "2. **Event Loop와의 통합**: `asyncio.Queue`는 asyncio의 이벤트 루프와 통합됩니다. 따라서 asyncio를 사용하는 프로젝트에서는 `asyncio.Queue`가 더 적합할 수 있습니다.\n",
    "\n",
    "3. **코루틴 안전성**: `asyncio.Queue`는 코루틴에서 안전하게 사용할 수 있습니다. 코루틴은 기본적으로 단일 스레드에서 실행되며, `asyncio.Queue`는 이러한 환경에 최적화되어 있습니다. 반면, `queue.Queue`는 멀티 스레드 환경에 적합하게 설계되었습니다.\n",
    "\n",
    "4. **단순성과 일관성**: `asyncio`를 사용하는 경우, 동일한 라이브러리 내에서 제공되는 비동기 큐를 사용하는 것이 코드의 일관성을 유지하는 데 도움이 될 수 있습니다.\n",
    "\n",
    "코드에서 WebSocket을 사용하여 비동기적으로 데이터를 받고 있기 때문에, `asyncio.Queue`가 이러한 비동기 작업을 더 쉽고 효율적으로 수행할 수 있습니다. 따라서 이 경우 `asyncio.Queue`를 사용하는 것이 더 적절합니다."
   ]
  },
  {
   "cell_type": "markdown",
   "metadata": {},
   "source": [
    "# queue.put()`와 `queue.put_nowait() 차이.\n",
    "`queue.put()`와 `queue.put_nowait()`은 Python의 `queue` 라이브러리에서 제공하는 메소드로, 모두 큐에 데이터를 넣는 작업을 수행합니다. 차이점은 다음과 같습니다:\n",
    "\n",
    "### `queue.put()`\n",
    "\n",
    "- 이 메소드는 큐가 가득 차 있을 경우, 새로운 요소가 큐에 들어갈 수 있을 때까지 블로킹됩니다. 즉, 큐에 공간이 생길 때까지 대기합니다.\n",
    "- 대기하는 동안 다른 작업을 수행하지 않으므로, 이 시간동안 프로그램의 효율성이 떨어질 수 있습니다.\n",
    "\n",
    "### `queue.put_nowait()`\n",
    "\n",
    "- 이 메소드는 큐가 가득 차 있을 경우, 즉시 `QueueFull` 예외를 발생시킵니다.\n",
    "- 블로킹하지 않으므로, 이 메소드를 호출한 다음에 즉시 다른 작업을 계속 수행할 수 있습니다.\n",
    "\n",
    "코드에 나온 `upbit_client` 함수는 비동기 함수(`async def`)이며, `websockets.connect`도 비동기 연산을 수행합니다. 따라서 여기에서는 가능한 한 블로킹을 피해야 합니다. 그래서 `put_nowait()`를 사용하는 것이 더 적절할 수 있습니다.\n",
    "\n",
    "`put_nowait()`를 사용함으로써, 웹소켓에서 데이터를 받은 즉시 큐에 추가하고, 만약 큐가 가득 차 있더라도 예외 처리를 통해 다른 작업을 즉시 계속할 수 있습니다. 이로 인해 전체적인 비동기 처리 흐름이 더 효율적으로 작동할 수 있습니다."
   ]
  }
 ],
 "metadata": {
  "language_info": {
   "name": "python"
  },
  "orig_nbformat": 4
 },
 "nbformat": 4,
 "nbformat_minor": 2
}
