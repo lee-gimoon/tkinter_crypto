{
 "cells": [
  {
   "cell_type": "code",
   "execution_count": 2,
   "metadata": {},
   "outputs": [],
   "source": [
    "import nest_asyncio\n",
    "nest_asyncio.apply()"
   ]
  },
  {
   "cell_type": "markdown",
   "metadata": {},
   "source": [
    "# asyncio.gather()에 대해 알아보자.\n",
    "asyncio.gather()는 Python의 비동기 프로그래밍 라이브러리인 asyncio의 한 함수입니다.<br>\n",
    "이 함수는 여러 코루틴을 입력으로 받아 그들을 동시에 실행(concurrently)하고, 모든 코루틴이 완료될 때까지 기다립니다.<br>\n",
    "각 코루틴의 결과는 리스트 형태로 반환됩니다.<br>\n",
    "\n",
    "쓰는 이유:<br>\n",
    "asyncio.gather()는 주로 I/O 바운드 작업이나 다른 비동기 작업을 효율적으로 관리할 때 사용됩니다.<br>\n",
    "이 함수를 사용하면 여러 작업을 동시에 시작하고, 모든 작업이 완료될 때까지 기다릴 수 있습니다.<br>\n",
    "이러한 방식으로 동시성을 활용하여 프로그램의 효율을 높일 수 있습니다.<br>"
   ]
  },
  {
   "cell_type": "code",
   "execution_count": 3,
   "metadata": {},
   "outputs": [
    {
     "name": "stdout",
     "output_type": "stream",
     "text": [
      "Running foo\n",
      "Running bar\n",
      "Done foo\n",
      "Done bar\n",
      "['foo', 'bar']\n"
     ]
    }
   ],
   "source": [
    "# 사용 예.\n",
    "import asyncio\n",
    "\n",
    "async def foo():\n",
    "    print('Running foo')\n",
    "    await asyncio.sleep(1)\n",
    "    print('Done foo')\n",
    "    return 'foo'\n",
    "\n",
    "async def bar():\n",
    "    print('Running bar')\n",
    "    await asyncio.sleep(2)\n",
    "    print('Done bar')\n",
    "    return 'bar'\n",
    "\n",
    "async def main():\n",
    "    result = await asyncio.gather(foo(), bar())\n",
    "    print(result)\n",
    "\n",
    "asyncio.run(main())\n",
    "\n",
    "# 실행 흐름:\n",
    "# 1.main() 코루틴이 실행되고, asyncio.gather(foo(), bar())를 호출합니다.\n",
    "# 2.foo()와 bar() 코루틴이 동시에 실행을 시작합니다.\n",
    "# 3.foo()와 bar()는 각각 자신의 로직을 수행하면서 동시에 실행됩니다.\n",
    "# 4.foo()와 bar()가 완료되면, 각 코루틴의 결과값이 리스트로 묶여서 result 변수에 저장됩니다.\n",
    "# 5.main() 코루틴은 이 결과값을 출력합니다\n"
   ]
  }
 ],
 "metadata": {
  "kernelspec": {
   "display_name": "Python 3",
   "language": "python",
   "name": "python3"
  },
  "language_info": {
   "codemirror_mode": {
    "name": "ipython",
    "version": 3
   },
   "file_extension": ".py",
   "mimetype": "text/x-python",
   "name": "python",
   "nbconvert_exporter": "python",
   "pygments_lexer": "ipython3",
   "version": "3.11.0"
  },
  "orig_nbformat": 4
 },
 "nbformat": 4,
 "nbformat_minor": 2
}
